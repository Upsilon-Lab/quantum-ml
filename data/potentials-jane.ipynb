{
 "metadata": {
  "language_info": {
   "codemirror_mode": {
    "name": "ipython",
    "version": 3
   },
   "file_extension": ".py",
   "mimetype": "text/x-python",
   "name": "python",
   "nbconvert_exporter": "python",
   "pygments_lexer": "ipython3",
   "version": "3.8.3-final"
  },
  "orig_nbformat": 2,
  "kernelspec": {
   "name": "python3",
   "display_name": "Python 3"
  }
 },
 "nbformat": 4,
 "nbformat_minor": 2,
 "cells": [
  {
   "cell_type": "code",
   "execution_count": 1,
   "metadata": {},
   "outputs": [],
   "source": [
    "import numpy as np\n",
    "import matplotlib.pyplot as plt"
   ]
  },
  {
   "cell_type": "code",
   "execution_count": null,
   "metadata": {},
   "outputs": [],
   "source": [
    "def genPot(spikiness, length=128,seed=None):\n",
    "    np.random.seed(seed)\n",
    "    pot = np.zeros(length,)\n",
    "    count=0\n",
    "    yval = np.random.rand()\n",
    "\n",
    "    while count < length:\n",
    "        if np.random.rand() < spikiness:\n",
    "            yval = np.random.rand()\n",
    "        pot[count] = yval\n",
    "        count += 1\n",
    "\n",
    "    return pot\n",
    "\n",
    "plt.plot(genPot(0.4))\n",
    "print (\"testing!\")\n",
    "            "
   ]
  }
 ]
}