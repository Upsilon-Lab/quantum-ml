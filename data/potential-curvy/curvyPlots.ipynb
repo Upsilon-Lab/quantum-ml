{
  "nbformat": 4,
  "nbformat_minor": 0,
  "metadata": {
    "colab": {
      "name": "Test.ipynb",
      "provenance": []
    },
    "kernelspec": {
      "name": "python3",
      "display_name": "Python 3"
    }
  },
  "cells": [
    {
      "cell_type": "code",
      "metadata": {
        "id": "ij8u1H6DThBG"
      },
      "source": [
        "import numpy as np\n",
        "import matplotlib.pyplot as plt"
      ],
      "execution_count": 4,
      "outputs": []
    },
    {
      "cell_type": "code",
      "metadata": {
        "id": "Vq-tNV22Uncs",
        "outputId": "a2cad692-bcbb-4175-c7c9-172f4146c6bf",
        "colab": {
          "base_uri": "https://localhost:8080/",
          "height": 350
        }
      },
      "source": [
        "#rands = np.random.rand(4,1)\n",
        "rands = np.random.randint(1,high=30, size=(4,1))\n",
        "intrand = np.random.randint(1,high=4)\n",
        "\n",
        "L = 0.01\n",
        "x = np.linspace(-L,L,1000)\n",
        "f = 0\n",
        "fro = 0\n",
        "\n",
        "for n in range(1,int(rands[0]),intrand):\n",
        "  f = f + rands[1]/np.pi * 1/n * np.sin(n*np.pi*x/L)\n",
        "  f = f + rands[3]/np.pi * 1/n * np.cos(n*np.pi*x/L)\n",
        "\n",
        "#for n in range(1,int(rands[2]),1):\n",
        "  \n",
        "\n",
        "print(rands)\n",
        "plt.plot(x,f)"
      ],
      "execution_count": 115,
      "outputs": [
        {
          "output_type": "stream",
          "text": [
            "[[21]\n",
            " [ 4]\n",
            " [18]\n",
            " [ 2]]\n"
          ],
          "name": "stdout"
        },
        {
          "output_type": "execute_result",
          "data": {
            "text/plain": [
              "[<matplotlib.lines.Line2D at 0x7f49a44c4be0>]"
            ]
          },
          "metadata": {
            "tags": []
          },
          "execution_count": 115
        },
        {
          "output_type": "display_data",
          "data": {
            "image/png": "[encoded data removed]",
            "text/plain": [
              "<Figure size 432x288 with 1 Axes>"
            ]
          },
          "metadata": {
            "tags": [],
            "needs_background": "light"
          }
        }
      ]
    },
    {
      "cell_type": "code",
      "metadata": {
        "id": "qvPWSi3pVdKn"
      },
      "source": [
        ""
      ],
      "execution_count": 98,
      "outputs": []
    }
  ]
}